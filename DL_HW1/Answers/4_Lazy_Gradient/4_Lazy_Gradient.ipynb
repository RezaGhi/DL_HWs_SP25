{
  "cells": [
    {
      "cell_type": "markdown",
      "metadata": {
        "id": "5e5fd69e"
      },
      "source": [
        "<div align=\"center\">\n",
        "    <img src=\"https://www.sharif.ir/documents/20124/0/logo-fa-IR.png/4d9b72bc-494b-ed5a-d3bb-e7dfd319aec8?t=1609608338755\" alt=\"Logo\" width=\"200\">\n",
        "    <p><b>HW1 @ Deep Learning Course, Dr. Soleymani</b></p>\n",
        "    <p><b>ِDesinged by Amirmahdi Meighani</b></p>\n",
        "</div>\n",
        "\n",
        "---\n",
        "\n"
      ]
    },
    {
      "cell_type": "markdown",
      "metadata": {
        "id": "sJ87dPg0aerE"
      },
      "source": [
        "\n",
        "*Full Name:* Reza Ghorbani Paji\n",
        "\n",
        "*Student Number:* 403206565"
      ]
    },
    {
      "cell_type": "markdown",
      "metadata": {
        "id": "CiTc9GwyxFbP"
      },
      "source": [
        "# Efficient Gradient Checkpointing for Memory-Constrained Deep Learning (50 points)\n",
        "Deep learning experiments are often limited by GPU memory constraints, making it challenging to train large models. To overcome this, we implemented gradient checkpointing, a technique that significantly reduces memory usage by strategically storing intermediate activations and recomputing them during backpropagation. This allows us to train models that would otherwise exceed our GPU’s memory capacity.\n",
        "\n",
        "In this guide, you'll first implement gradient checkpointing from scratch to understand its inner workings. Then, you'll learn how to leverage PyTorch's built-in checkpointing feature for more efficient deep learning workflows."
      ]
    },
    {
      "cell_type": "markdown",
      "metadata": {
        "id": "-tcGtSaizW0e"
      },
      "source": [
        "### How Gradient Checkpointing Works\n",
        "We divide the neural network into segments and only store activations at the segment boundaries (checkpoints). The activations for intermediate layers are discarded and recomputed during backpropagation.\n",
        "\n",
        "Step-by-Step Process:\n",
        "\n",
        "\n",
        "\n",
        "*   **Forward Pass (Training Phase)**\n",
        "\n",
        "\n",
        "\n",
        "1.  Divide the model into segments (e.g., every few layers).\n",
        "2.  Save activations only at checkpoint layers.\n",
        "3.  Discard activations of intermediate layers.\n",
        "4.  Proceed as usual to compute the final output.\n",
        "\n",
        "\n",
        "\n",
        "*   **Backward Pass (Gradient Calculation)**\n",
        "\n",
        "\n",
        "\n",
        "1. Recompute missing activations for each segment.\n",
        "2. Compute gradients using the recomputed activations.\n",
        "3. Update model parameters with computed gradients.\n",
        "\n",
        "\n",
        "By recomputing only small segments at a time, we save significant memory while keeping the computational cost manageable.\n"
      ]
    },
    {
      "cell_type": "markdown",
      "metadata": {
        "id": "6VBfGyOGyMou"
      },
      "source": [
        "First import what you need and check your GPU."
      ]
    },
    {
      "cell_type": "code",
      "execution_count": 64,
      "metadata": {
        "id": "KDhYof0c_WJQ"
      },
      "outputs": [],
      "source": [
        "import torch\n",
        "import torch.nn as nn\n",
        "import torch.optim as optim\n",
        "import time\n",
        "import matplotlib.pyplot as plt\n",
        "\n",
        "\n",
        "# TODO: Your imports\n",
        "import tqdm\n",
        "import gc\n",
        "# End of TODO\n"
      ]
    },
    {
      "cell_type": "code",
      "execution_count": 65,
      "metadata": {
        "colab": {
          "base_uri": "https://localhost:8080/"
        },
        "id": "IXVCjK-oyCbW",
        "outputId": "9d2a3be8-7559-464f-84bb-f75d97d5967d"
      },
      "outputs": [
        {
          "output_type": "stream",
          "name": "stdout",
          "text": [
            "Using device: cuda\n"
          ]
        }
      ],
      "source": [
        "# Check for GPU availability\n",
        "device = torch.device(\"cuda\" if torch.cuda.is_available() else \"cpu\")\n",
        "print(f\"Using device: {device}\") # You must use cuda for this notebook\n",
        "\n",
        "# Function to measure GPU memory usage\n",
        "def get_gpu_memory_usage():\n",
        "    # Todo: return the gpu memory usage for comparison\n",
        "    return torch.cuda.memory_allocated(device=device) / (1024 * 1024)\n",
        "    # End of Todo"
      ]
    },
    {
      "cell_type": "markdown",
      "metadata": {
        "id": "xK84pCyvyYpG"
      },
      "source": [
        "We have created a small model for using it with and with out lazy gradient. You can change it if you like."
      ]
    },
    {
      "cell_type": "code",
      "execution_count": null,
      "metadata": {
        "id": "xoGbByYRIavG"
      },
      "outputs": [],
      "source": [
        "# Define a model for intensive GPU usage\n",
        "# You can change it\n",
        "class Model(nn.Module):\n",
        "    def __init__(self):\n",
        "        super(Model, self).__init__()\n",
        "\n",
        "        self.before = nn.Sequential(\n",
        "            nn.Linear(200*200, 100*100),\n",
        "            nn.ReLU(),\n",
        "            nn.Linear(100*100, 100),\n",
        "            nn.ReLU(),\n",
        "            nn.Linear(100, 32),\n",
        "            nn.ReLU()\n",
        "        )\n",
        "\n",
        "        self.after = nn.Sequential(\n",
        "            nn.Linear(32, 3000),\n",
        "            nn.ReLU(),\n",
        "            nn.Linear(3000, 100*100),\n",
        "            nn.ReLU(),\n",
        "            nn.Linear(100*100, 20*50),\n",
        "            nn.ReLU(),\n",
        "            nn.Linear(20*50, 1)\n",
        "        )\n",
        "\n",
        "\n",
        "\n",
        "    def forward(self, x):\n",
        "        bottleneck_out = self.before(x)\n",
        "        final_out = self.after(bottleneck_out)\n",
        "        return final_out, bottleneck_out\n",
        "\n",
        "\n"
      ]
    },
    {
      "cell_type": "code",
      "execution_count": null,
      "metadata": {
        "id": "B749SC2jysWf"
      },
      "outputs": [],
      "source": [
        "def create_dataloader(batch_size=128):\n",
        "    # Todo: Create synthetic data and return a dataloader\n",
        "    # The data must be compatible with the model you use\n",
        "    num_samples = 10000\n",
        "    input_dim = 200*200\n",
        "    X = torch.randn(num_samples, input_dim)\n",
        "    y = torch.randn(num_samples, 1)\n",
        "\n",
        "    data = torch.utils.data.TensorDataset(X, y)\n",
        "\n",
        "    dataloader = torch.utils.data.DataLoader(data, batch_size = batch_size, shuffle=True)\n",
        "\n",
        "    return dataloader\n",
        "    # End of Todo\n"
      ]
    },
    {
      "cell_type": "code",
      "execution_count": null,
      "metadata": {
        "id": "2YL0hFZZIx6-"
      },
      "outputs": [],
      "source": [
        "\n",
        "# Training loop\n",
        "def train_model(use_lazy_grad=False, num_epochs=1):\n",
        "    dataloader = create_dataloader()\n",
        "    print('Data is Created')\n",
        "    model = Model().to(device)\n",
        "    optimizer = optim.Adam(model.parameters(), lr=0.001)\n",
        "    criterion = nn.MSELoss()\n",
        "\n",
        "    mem_usage = []\n",
        "    start_time = time.time()\n",
        "\n",
        "    for epoch in range(num_epochs):\n",
        "        for batch_x, batch_y in tqdm.tqdm(dataloader):\n",
        "\n",
        "            batch_x = batch_x.to(device)\n",
        "            batch_y = batch_y.to(device)\n",
        "\n",
        "            optimizer.zero_grad()\n",
        "            batch_x.requires_grad = True  # Track gradients\n",
        "            final_out, bottleneck_out = model(batch_x)\n",
        "\n",
        "\n",
        "            if use_lazy_grad:\n",
        "                # Todo: implement the lazy gradient method, using the bottleneck\n",
        "                # as the only segmentation. You should compute gradient w.r.t\n",
        "                # bottleneck output and then backpropagate manually\n",
        "                bottleneck_out.retain_grad()\n",
        "\n",
        "                loss = criterion(final_out, batch_y)\n",
        "                loss.backward(retain_graph=True)\n",
        "\n",
        "                bottleneck_grad = bottleneck_out.grad\n",
        "\n",
        "                model.after.zero_grad()\n",
        "                model.before.zero_grad()\n",
        "\n",
        "                bottleneck_out.backward(bottleneck_grad)\n",
        "                # End of Todo\n",
        "\n",
        "            else:\n",
        "                # Todo: normal back prop of loss\n",
        "                loss = criterion(final_out, batch_y)\n",
        "                loss.backward()\n",
        "                # End of Todo\n",
        "\n",
        "            optimizer.step()\n",
        "\n",
        "            mem_usage.append(get_gpu_memory_usage())\n",
        "\n",
        "    elapsed_time = time.time() - start_time\n",
        "    return mem_usage, elapsed_time\n"
      ]
    },
    {
      "cell_type": "code",
      "execution_count": null,
      "metadata": {
        "colab": {
          "base_uri": "https://localhost:8080/"
        },
        "id": "4HIHESsQzC4X",
        "outputId": "dc2d8ca2-6cec-4f08-a4f0-4527141a3857"
      },
      "outputs": [
        {
          "output_type": "stream",
          "name": "stdout",
          "text": [
            "Data is Created\n"
          ]
        },
        {
          "output_type": "stream",
          "name": "stderr",
          "text": [
            "100%|██████████| 79/79 [00:16<00:00,  4.68it/s]\n"
          ]
        },
        {
          "output_type": "stream",
          "name": "stdout",
          "text": [
            "Data is Created\n"
          ]
        },
        {
          "output_type": "stream",
          "name": "stderr",
          "text": [
            "100%|██████████| 79/79 [00:21<00:00,  3.74it/s]\n"
          ]
        },
        {
          "output_type": "execute_result",
          "data": {
            "text/plain": [
              "254"
            ]
          },
          "metadata": {},
          "execution_count": 102
        }
      ],
      "source": [
        "# TODO:\n",
        "# Run training with and without lazy gradient propagation\n",
        "# Note that you should empty cache of cuda before, between and after your trainings\n",
        "# So your results will be valid. Save the mem_usage and elapsed_time of each one\n",
        "torch.cuda.empty_cache()\n",
        "gc.collect()\n",
        "mem_usage_noraml, elapsed_time_normal = train_model(use_lazy_grad=False)\n",
        "\n",
        "torch.cuda.empty_cache()\n",
        "gc.collect()\n",
        "mem_usage_lazy, elapsed_time_lazy = train_model(use_lazy_grad=True)\n",
        "torch.cuda.empty_cache()\n",
        "gc.collect()\n",
        "\n",
        "# End of TODO"
      ]
    },
    {
      "cell_type": "code",
      "source": [
        "# TODO: Plot memory usage and compare the time\n",
        "# that each method needs\n",
        "plt.figure()\n",
        "plt.plot(mem_usage_lazy, label=\"Lazy Gradient Backprop\")\n",
        "plt.plot(mem_usage_noraml, label=\"Standard Backprop\")\n",
        "plt.xlabel(\"Training Steps\")\n",
        "plt.ylabel(\"GPU Memory Usage (MB)\")\n",
        "plt.title(\"GPU Memory Usage\")\n",
        "plt.legend()\n",
        "plt.show()\n",
        "\n",
        "print(f'Standard Backprop Time:{elapsed_time_normal}')\n",
        "print(f'Lazy Gradient Backprop Time:{elapsed_time_lazy}')\n",
        "# End of TODO"
      ],
      "metadata": {
        "colab": {
          "base_uri": "https://localhost:8080/",
          "height": 508
        },
        "id": "ssr_8xPAx402",
        "outputId": "4a969abf-88ea-4394-ef5a-b3d0f0adb0f6"
      },
      "execution_count": null,
      "outputs": [
        {
          "output_type": "display_data",
          "data": {
            "text/plain": [
              "<Figure size 640x480 with 1 Axes>"
            ],
            "image/png": "[encoded data removed]"
          },
          "metadata": {}
        },
        {
          "output_type": "stream",
          "name": "stdout",
          "text": [
            "Standard Backprop Time:16.896573781967163\n",
            "Lazy Gradient Backprop Time:21.133576154708862\n"
          ]
        }
      ]
    },
    {
      "cell_type": "markdown",
      "metadata": {
        "id": "BCfcyl9H16Sb"
      },
      "source": [
        "PyTorch provides a built-in gradient checkpointing feature through torch.utils.checkpoint. This makes it easy to implement checkpointing without manually managing activation storage and recomputation.\n",
        "\n"
      ]
    },
    {
      "cell_type": "markdown",
      "metadata": {
        "id": "LLrb5hYsHcjv"
      },
      "source": [
        "First, let's create a simple Sequential model and checkpoint it. We can also verify that the checkpointing doesn't change the value of gradients or the activations."
      ]
    },
    {
      "cell_type": "code",
      "execution_count": null,
      "metadata": {
        "id": "etml_C4IHda9"
      },
      "outputs": [],
      "source": [
        "from torch.utils.checkpoint import checkpoint_sequential\n",
        "\n",
        "\n",
        "# TODO: create a simple Sequential model and then create the model inputs.\n",
        "# get the modules in the model. These modules should be in the order\n",
        "# the model should be executed. Then set the number of checkpoint segments.\n",
        "# Now call the checkpoint API and get the output.\n",
        "# finally run the backwards pass on the model. For backwards pass, for simplicity,\n",
        "# we won't calculate the loss and rather backprop on output.sum()\n",
        "\n",
        "model = nn.Sequential(\n",
        "    nn.Linear(128, 50),\n",
        "    nn.ReLU(),\n",
        "    nn.Linear(50, 20),\n",
        "    nn.ReLU(),\n",
        "    nn.Linear(20, 10)\n",
        ").to(device)\n",
        "\n",
        "x = torch.randn(16, 128, requires_grad=True, device=device)\n",
        "\n",
        "modules = list(model.children())\n",
        "\n",
        "num_segments = 2\n",
        "\n",
        "out = checkpoint_sequential(modules, num_segments, x)\n",
        "\n",
        "out.sum().backward()\n",
        "\n",
        "\n",
        "\n",
        "# Now we save the output and parameter gradients that we will use for\n",
        "# comparison purposes with the non-checkpointed run.\n",
        "output_checkpointed = out.data.clone()\n",
        "grad_checkpointed = {}\n",
        "for name, param in model.named_parameters():\n",
        "    grad_checkpointed[name] = param.grad.data.clone()"
      ]
    },
    {
      "cell_type": "markdown",
      "metadata": {
        "id": "egn1PoE2L65t"
      },
      "source": [
        "Now that we have executed the checkpointed pass on the model, let's also run the non-checkpointed model and verify that the checkpoint API doesn't change the model outputs or the parameter gradients."
      ]
    },
    {
      "cell_type": "code",
      "execution_count": null,
      "metadata": {
        "id": "UTo9dV21L87M"
      },
      "outputs": [],
      "source": [
        "# TODO: use the non-checkpointed mode. create a new variable using the same\n",
        "# tensor data. get the model output.\n",
        "\n",
        "model.zero_grad()\n",
        "\n",
        "x_non_checkpointed = x.clone().detach().requires_grad_(True)\n",
        "\n",
        "out = model(x_non_checkpointed)\n",
        "\n",
        "out.sum().backward()\n",
        "\n",
        "\n",
        "# save the output and parameter gradients values\n",
        "out_not_checkpointed = out.data.clone()\n",
        "grad_not_checkpointed = {}\n",
        "for name, param in model.named_parameters():\n",
        "    grad_not_checkpointed[name] = param.grad.data.clone()"
      ]
    },
    {
      "cell_type": "markdown",
      "metadata": {
        "id": "8pFFg-c9MLbL"
      },
      "source": [
        "Now that we have done the checkpointed and non-checkpointed pass of the model and saved the output and parameter gradients, let's compare their values"
      ]
    },
    {
      "cell_type": "code",
      "execution_count": null,
      "metadata": {
        "id": "oQ9zmfkcMN7T",
        "colab": {
          "base_uri": "https://localhost:8080/"
        },
        "outputId": "9396e647-41ab-4a17-dec3-0b635c240d1f"
      },
      "outputs": [
        {
          "output_type": "stream",
          "name": "stdout",
          "text": [
            "All checks passed!\n"
          ]
        }
      ],
      "source": [
        "# TODO: compare the output and parameters gradients with and without checkpoint.\n",
        "# they must be equal.\n",
        "\n",
        "assert torch.allclose(output_checkpointed, out_not_checkpointed, atol=1e-6), \"Outputs differ between checkpointed and non-checkpointed runs\"\n",
        "\n",
        "for name in grad_checkpointed:\n",
        "    assert torch.allclose(grad_checkpointed[name], grad_not_checkpointed[name], atol=1e-6), f\"Gradient mismatch for parameter: {name}\"\n",
        "\n",
        "print(\"All checks passed!\")"
      ]
    },
    {
      "cell_type": "markdown",
      "metadata": {
        "id": "56A_N_M3Ma4t"
      },
      "source": [
        "So, from this example, we can see that it's very easy to use checkpointing on Sequential models and that the checkpoint API doesn't alter any data. The Checkpoint API implementation is based on autograd and hence there is no need for explicitly specifying what the execution of backwards should look like"
      ]
    },
    {
      "cell_type": "markdown",
      "metadata": {
        "id": "AEeJgxBwR_JP"
      },
      "source": [
        "# Gradient Accumulation in Deep Learning (25 points)\n",
        "\n",
        "\n",
        "### 1. Introduction\n",
        "\n",
        "Training deep learning models with large batch sizes can be difficult due to memory limitations, especially when using large datasets or deep networks. **Gradient Accumulation** is a technique that allows us to simulate large batch sizes without increasing memory usage. This tutorial will cover:\n",
        "\n",
        "1. **The theory behind Gradient Accumulation**\n",
        "2. **Using it in PyTorch**\n",
        "3. **Observing its effects**\n",
        "\n",
        "---\n",
        "\n",
        "## 2. Theory Behind Gradient Accumulation\n",
        "\n",
        "### 2.1 What is Gradient Accumulation?\n",
        "Instead of updating the model parameters after every mini-batch, **Gradient Accumulation** allows us to accumulate gradients over multiple mini-batches before performing an update. This effectively simulates training with a larger batch size.\n",
        "\n",
        "### 2.2 Why Use Gradient Accumulation?\n",
        "- **Overcome Memory Limits**: Training with large batch sizes often exceeds GPU memory capacity. Accumulating gradients allows training on smaller mini-batches while maintaining the benefits of larger batch training.\n",
        "- **Stable Training**: Larger batch sizes help in stable updates and reducing variance in gradient estimation.\n",
        "- **Effective Batch Size**: If GPU memory allows batch size `B` but we need `N`, we can accumulate gradients for `N/B` steps before updating.\n",
        "\n",
        "### 2.3 How Does It Work?\n",
        "If `loss` is computed on `batch_size = B`, instead of calling `optimizer.step()` every step, we:\n",
        "1. Compute gradients on `B` and accumulate them.\n",
        "2. Repeat for `K` iterations, accumulating gradients.\n",
        "3. Update weights only after `K` steps.\n",
        "4. Reset gradients after update.\n",
        "\n",
        "This results in an **effective batch size** of `B * K` without needing extra memory.\n"
      ]
    },
    {
      "cell_type": "markdown",
      "metadata": {
        "id": "3M4jGKzjswGd"
      },
      "source": [
        "first create a simple model and implement the function to train with accumulation."
      ]
    },
    {
      "cell_type": "code",
      "execution_count": 46,
      "metadata": {
        "id": "mlVph1YjhQdg"
      },
      "outputs": [],
      "source": [
        "import torch\n",
        "import torch.nn as nn\n",
        "import torch.optim as optim\n",
        "\n",
        "def train_with_gradient_accumulation(model, dataloader, accumulation_steps):\n",
        "    criterion = nn.MSELoss()\n",
        "    optimizer = optim.SGD(model.parameters(), lr=0.01)\n",
        "    model.train()\n",
        "    optimizer.zero_grad()\n",
        "    mem_usage = []\n",
        "    loss = 0\n",
        "\n",
        "    for batch_idx, (inputs, targets) in enumerate(dataloader):\n",
        "        # TODO: Get loss and Normalize loss by accumulation steps\n",
        "        # Then backpropagate loss.  Accumulate gradients and update after\n",
        "        # `accumulation_steps'\n",
        "        inputs = inputs.to(device)\n",
        "        targets = targets.to(device)\n",
        "\n",
        "        predict = model(inputs)\n",
        "        loss = criterion(targets, predict) / accumulation_steps\n",
        "        loss.backward()\n",
        "\n",
        "        if (batch_idx + 1) % accumulation_steps == 0:\n",
        "            optimizer.step()\n",
        "            optimizer.zero_grad()\n",
        "            mem_usage.append(get_gpu_memory_usage())\n",
        "        # End of TODO\n",
        "\n",
        "\n",
        "    return mem_usage\n",
        "\n",
        "\n",
        "class SimpleModel(nn.Module):\n",
        "    def __init__(self, input_dim=200, hidden_dim=1500, output_dim=1):\n",
        "        super(SimpleModel, self).__init__()\n",
        "        self.network = nn.Sequential(\n",
        "            nn.Linear(input_dim, hidden_dim),\n",
        "            nn.ReLU(),\n",
        "            nn.Linear(hidden_dim, hidden_dim),\n",
        "            nn.ReLU(),\n",
        "            nn.Linear(hidden_dim, output_dim)\n",
        "        )\n",
        "\n",
        "    def forward(self, x):\n",
        "        return self.network(x)\n",
        "# End of TODO\n",
        "\n",
        "\n",
        "model = SimpleModel().to(device)"
      ]
    },
    {
      "cell_type": "markdown",
      "metadata": {
        "id": "1t7_MX4ws5NH"
      },
      "source": [
        "Now create a dataloader with the mentioned parameters"
      ]
    },
    {
      "cell_type": "code",
      "execution_count": 47,
      "metadata": {
        "id": "qn5mPZnHtAYi"
      },
      "outputs": [],
      "source": [
        "def create_dataloader(batch_size, accumulation_steps):\n",
        "\n",
        "    num_batches = 5\n",
        "    num_samples = num_batches * batch_size * accumulation_steps\n",
        "\n",
        "    X = torch.randn(num_samples, 200)\n",
        "\n",
        "    y = torch.randn(num_samples, 1)\n",
        "\n",
        "    dataset = torch.utils.data.TensorDataset(X, y)\n",
        "    dataloader = torch.utils.data.DataLoader(dataset, batch_size=batch_size, shuffle=True)\n",
        "    return dataloader\n"
      ]
    },
    {
      "cell_type": "markdown",
      "metadata": {
        "id": "fdlqgbb4tChj"
      },
      "source": [
        "Lets train with accumulation and save mem usage."
      ]
    },
    {
      "cell_type": "code",
      "execution_count": 55,
      "metadata": {
        "id": "eUngBnO5tHUH"
      },
      "outputs": [],
      "source": [
        "batch_size = 100  # Small batch size due to memory limits you can change it\n",
        "effective_batch_size = 400\n",
        "accumulation_steps = effective_batch_size // batch_size\n",
        "\n",
        "# TODO: train with accumulation_steps and save mem_usage\n",
        "# dont forget to empty cuda cache\n",
        "torch.cuda.empty_cache()\n",
        "\n",
        "dataloader = create_dataloader(batch_size, accumulation_steps)\n",
        "\n",
        "mem_usage_accumulation = train_with_gradient_accumulation(model, dataloader, accumulation_steps)\n",
        "\n",
        "torch.cuda.empty_cache()\n",
        "\n",
        "\n",
        "\n",
        "# End of TODO"
      ]
    },
    {
      "cell_type": "markdown",
      "metadata": {
        "id": "vLmsvbEQtUs1"
      },
      "source": [
        "And now train in the classic way with no accumulation."
      ]
    },
    {
      "cell_type": "code",
      "execution_count": 56,
      "metadata": {
        "id": "MZyulZ2qnFh-"
      },
      "outputs": [],
      "source": [
        "# TODO: train with accumulation_steps=1 (it means standard back prop)\n",
        "# and save mem_usage\n",
        "torch.cuda.empty_cache()\n",
        "\n",
        "dataloader_standard = create_dataloader(effective_batch_size, accumulation_steps=1)\n",
        "\n",
        "mem_usage_standard = train_with_gradient_accumulation(model, dataloader_standard, accumulation_steps=1)\n",
        "\n",
        "torch.cuda.empty_cache()\n",
        "\n",
        "# End of TODO"
      ]
    },
    {
      "cell_type": "markdown",
      "metadata": {
        "id": "2I7EsSvnttF2"
      },
      "source": [
        "Check if we actually used less memory:"
      ]
    },
    {
      "cell_type": "code",
      "source": [
        "# TODO: Plot memory usage\n",
        "plt.figure()\n",
        "plt.plot(mem_usage_accumulation, label=\"Acculuate Gradient Backprop\")\n",
        "plt.plot(mem_usage_standard, label=\"Standard Backprop\")\n",
        "plt.xlabel(\"Training Steps\")\n",
        "plt.ylabel(\"GPU Memory Usage (MB)\")\n",
        "plt.title(\"GPU Memory Usage\")\n",
        "plt.legend()\n",
        "plt.show()\n",
        "\n",
        "# End of TODO"
      ],
      "metadata": {
        "colab": {
          "base_uri": "https://localhost:8080/",
          "height": 472
        },
        "id": "mC1Y25IPH-hs",
        "outputId": "ee662114-1ee1-4098-d402-01eda18ab101"
      },
      "execution_count": 57,
      "outputs": [
        {
          "output_type": "display_data",
          "data": {
            "text/plain": [
              "<Figure size 640x480 with 1 Axes>"
            ],
            "image/png": "[encoded data removed]"
          },
          "metadata": {}
        }
      ]
    },
    {
      "cell_type": "markdown",
      "metadata": {
        "id": "VkEyfapirUnh"
      },
      "source": [
        "##  Conclusion\n",
        "\n",
        "- **Gradient Accumulation** helps simulate large batch sizes without requiring more memory.\n",
        "- It improves **training stability** and allows training on **memory-constrained GPUs**.\n",
        "- We implemented it **from scratch** and in **PyTorch**.\n",
        "- We visualized its **effects** on loss stabilization.\n",
        "\n",
        "Gradient Accumulation is a useful trick when working with **deep networks and large datasets** on limited hardware. 🚀\n"
      ]
    },
    {
      "cell_type": "markdown",
      "metadata": {
        "id": "Gz7HCNMKw6AQ"
      },
      "source": [
        "# Sources of Randomness (5 points)\n",
        "run the code below. the outputs are different. Why do you think this happened?\n",
        "\n",
        "Every time we create a new instance of SimpleModel, its weights and biases are randomly initialized by default. As a result, even if you feed the exact same input to two newly created models, each will produce a different output because the initial parameters diffe"
      ]
    },
    {
      "cell_type": "code",
      "execution_count": null,
      "metadata": {
        "colab": {
          "base_uri": "https://localhost:8080/"
        },
        "id": "9YuEzyOYx43P",
        "outputId": "eb475f19-8797-4127-b89e-7f7dd17b562f"
      },
      "outputs": [
        {
          "output_type": "stream",
          "name": "stdout",
          "text": [
            "tensor([[0.0855]], device='cuda:0', grad_fn=<AddmmBackward0>)\n",
            "tensor([[-0.0551]], device='cuda:0', grad_fn=<AddmmBackward0>)\n"
          ]
        }
      ],
      "source": [
        "input = torch.randn(1, 5).to(device)\n",
        "model = SimpleModel(input_dim=5, hidden_dim=1500,output_dim=1).to(device)\n",
        "\n",
        "out = model(input)\n",
        "print(out)\n",
        "\n",
        "model = SimpleModel(input_dim=5, hidden_dim=1500,output_dim=1).to(device)\n",
        "\n",
        "out = model(input)\n",
        "print(out)"
      ]
    },
    {
      "cell_type": "markdown",
      "metadata": {
        "id": "IiFRFPK7yt7n"
      },
      "source": [
        "## Controlling Sources of Randomness in PyTorch Models (with GPU)\n",
        "\n",
        "### Introduction\n",
        "Randomness plays a crucial role in deep learning, but uncontrolled randomness can lead to inconsistent results. This part explores the sources of randomness in PyTorch and how to control them, especially when using a GPU.\n",
        "\n",
        "---\n",
        "\n",
        "## **1. Understanding Sources of Randomness**\n",
        "In PyTorch, randomness can come from multiple sources:\n",
        "\n",
        "1. **Python's built-in random module**: Used for operations that involve randomness in Python code.\n",
        "2. **NumPy**: If NumPy is used for data augmentation or initialization.\n",
        "3. **PyTorch CPU Randomness**: Random initialization of weights, dropout layers, etc.\n",
        "4. **PyTorch GPU Randomness**: When CUDA is used, operations can be non-deterministic.\n",
        "5. **cuDNN Backend**: NVIDIA's cuDNN has optimizations that may introduce non-determinism.\n",
        "\n",
        "To get reproducible results, all these sources must be controlled."
      ]
    },
    {
      "cell_type": "markdown",
      "metadata": {
        "id": "BWK0sdP22upC"
      },
      "source": [
        "## **2. Setting Seeds in PyTorch**\n",
        "To control randomness, we define a function that sets the seed for all sources:"
      ]
    },
    {
      "cell_type": "code",
      "execution_count": null,
      "metadata": {
        "id": "O_1V5NuG2yip"
      },
      "outputs": [],
      "source": [
        "import os\n",
        "import random\n",
        "import numpy as np\n",
        "import torch\n",
        "\n",
        "def set_seed(seed):\n",
        "    # TODO: set these seeds:\n",
        "    # Python Hash seed\n",
        "    # Python random module\n",
        "    # NumPy seed\n",
        "    # PyTorch CPU seed\n",
        "    # PyTorch CUDA seed\n",
        "    # Multi-GPU seed\n",
        "    # Ensure deterministic cudnn\n",
        "    # Disables optimization that may introduce randomness(benchmark)\n",
        "\n",
        "    os.environ[\"PYTHONHASHSEED\"] = str(seed)\n",
        "\n",
        "    random.seed(seed)\n",
        "\n",
        "    np.random.seed(seed)\n",
        "\n",
        "    torch.manual_seed(seed)\n",
        "\n",
        "    if torch.cuda.is_available():\n",
        "        torch.cuda.manual_seed(seed)\n",
        "        torch.cuda.manual_seed_all(seed)  # If using multiple GPUs\n",
        "\n",
        "    torch.backends.cudnn.deterministic = True\n",
        "    torch.backends.cudnn.benchmark = False\n",
        "\n",
        "    # End of TODO\n",
        "\n"
      ]
    },
    {
      "cell_type": "markdown",
      "metadata": {
        "id": "VWyHuR0F3CeH"
      },
      "source": [
        "Now check if the results are the same:"
      ]
    },
    {
      "cell_type": "code",
      "execution_count": null,
      "metadata": {
        "colab": {
          "base_uri": "https://localhost:8080/"
        },
        "id": "28KYX2nX23cN",
        "outputId": "3f6396e8-2315-41f8-a738-8eeb63bdd5c3"
      },
      "outputs": [
        {
          "output_type": "stream",
          "name": "stdout",
          "text": [
            "tensor([[0.0854]], device='cuda:0', grad_fn=<AddmmBackward0>)\n",
            "tensor([[0.0854]], device='cuda:0', grad_fn=<AddmmBackward0>)\n"
          ]
        }
      ],
      "source": [
        "input = torch.randn(1, 5).to(device)\n",
        "\n",
        "set_seed(123)  # Set seed to 123 (or any fixed value)\n",
        "model = SimpleModel(input_dim=5, hidden_dim=1500,output_dim=1).to(device)\n",
        "\n",
        "out = model(input)\n",
        "print(out)\n",
        "\n",
        "set_seed(123)  # Set seed to 123 (or any fixed value)\n",
        "\n",
        "model = SimpleModel(input_dim=5, hidden_dim=1500,output_dim=1).to(device)\n",
        "\n",
        "out = model(input)\n",
        "print(out)"
      ]
    },
    {
      "cell_type": "markdown",
      "metadata": {
        "id": "M5L0iare3WAM"
      },
      "source": [
        "## **Key Takeaways**\n",
        "1. Randomness in PyTorch comes from multiple sources: Python, NumPy, PyTorch (CPU & GPU), and cuDNN.\n",
        "2. Using `set_seed()` ensures reproducibility in experiments.\n",
        "3. cuDNN optimizations can introduce non-determinism; setting `torch.backends.cudnn.deterministic = True` helps mitigate this.\n",
        "4. Always set the seed before model initialization to ensure identical starting conditions.\n",
        "\n",
        "Reproducibility is critical for debugging and fair benchmarking of deep learning models. 🚀\n"
      ]
    },
    {
      "cell_type": "markdown",
      "metadata": {
        "id": "8dP9w2HP4HuG"
      },
      "source": [
        "**Note**\n",
        "\n",
        "Setting torch.backends.cudnn.deterministic = True makes the code slower because it forces cuDNN to use deterministic algorithms instead of its default highly-optimized, non-deterministic implementations. Here’s why:\n",
        "1. cuDNN Optimizations\n",
        "\n",
        "cuDNN (CUDA Deep Neural Network Library) provides highly optimized implementations of deep learning operations, such as convolutions and matrix multiplications. By default, cuDNN selects the fastest algorithm available based on the given input size, hardware, and configuration.\n",
        "2. Deterministic vs. Non-Deterministic Algorithms\n",
        "\n",
        "Some of cuDNN’s fastest algorithms introduce minor sources of randomness due to floating-point precision differences in parallel execution, particularly in:\n",
        "\n",
        "    Convolution operations (e.g., torch.nn.Conv2d)\n",
        "    Batch normalization\n",
        "    Recurrent layers (e.g., LSTMs)\n",
        "\n",
        "When torch.backends.cudnn.deterministic = True, PyTorch forces cuDNN to use only deterministic versions of these algorithms. However, deterministic algorithms are not always the most optimized ones, leading to slower performance."
      ]
    },
    {
      "cell_type": "markdown",
      "metadata": {
        "id": "0MbFW4pH9k8_"
      },
      "source": [
        "# Second-Order Gradients in Deep Learning (20 points)\n",
        "\n",
        "What are Second-Order Gradients?\n",
        "\n",
        "In deep learning, second-order gradients refer to the derivatives of gradients (i.e., the second derivative of a loss function with respect to model parameters). These are commonly used in optimization methods that require information about the curvature of the loss function.\n",
        "\n",
        "\n",
        "\n",
        "### **Mathematically**:\n",
        "- **First-order gradient**: $ g = \\nabla_\\theta L(\\theta) $ (gradient of loss $ L $ w.r.t. parameters $ \\theta $)\n",
        "- **Second-order gradient (Hessian)**: $ H = \\nabla^2_\\theta L(\\theta) $ (derivative of $ g $, which captures curvature)\n",
        "\n",
        "\n",
        "###**Why Use Second-Order Gradients?**\n",
        "\n",
        " *   Better Optimization – Second-order methods like Newton’s Method use curvature information to converge faster than first-order methods (like SGD).\n",
        " *    Natural Gradient Descent – Second-order gradients help in adapting the learning rate in different directions based on the Hessian matrix.\n",
        " *   Meta-Learning – Algorithms like MAML (Model-Agnostic Meta-Learning) require second-order gradients to update learning rates.\n",
        " *   Adversarial Training – Computing second-order derivatives is useful for generating adversarial examples.\n",
        " *   Regularization – Used in some regularization techniques like curvature-based penalties.\n",
        "\n",
        "\n",
        "\n",
        "###**Challenges of Second-Order Gradients**\n",
        "\n",
        " * Computationally Expensive – Computing second-order derivatives (Hessian) can be costly, especially for deep networks.\n",
        " * Memory Intensive – Requires additional memory, making it impractical for very large models.\n",
        " * Numerical Stability – Sometimes leads to unstable gradients and requires careful tuning."
      ]
    },
    {
      "cell_type": "markdown",
      "metadata": {
        "id": "FlP1wlI_C4-x"
      },
      "source": [
        "The second derivative (Hessian matrix) provides information about how the gradient changes. By moving in the direction of the second-order gradient, we can adaptively adjust step sizes based on how steep or flat the loss landscape is.\n",
        "\n",
        "In the simplest case:\n",
        "\n",
        "$\n",
        "θ′=θ−α∇L(θ)−β∇2L(θ)\n",
        "$\n",
        "\n",
        "where:\n",
        "\n",
        " * ∇2L(θ) (the second-order gradient) adjusts the update based on curvature,\n",
        " * β is a small scaling factor."
      ]
    },
    {
      "cell_type": "code",
      "execution_count": 61,
      "metadata": {
        "id": "8AEKRwhk_ynt"
      },
      "outputs": [],
      "source": [
        "class SimpleNet(nn.Module):\n",
        "    def __init__(self):\n",
        "        super().__init__()\n",
        "        # TODO: define a model (1d to 1d)\n",
        "        self.net = nn.Sequential(\n",
        "          nn.Linear(1,32),\n",
        "          nn.ReLU(),\n",
        "          nn.Linear(32,64),\n",
        "          nn.ReLU(),\n",
        "          nn.Linear(64,1)\n",
        "        )\n",
        "        # End of TODO\n",
        "\n",
        "    def forward(self, x):\n",
        "        # TODO: implement forward\n",
        "        return self.net(x)\n",
        "        # End of TODO\n",
        "\n",
        "\n",
        "def generate_data():\n",
        "    # TODO: Generate data for 1d to 1d model\n",
        "    # a simple linear data with noise is ok. For example: y = 2x + 3 + noise\n",
        "    x = torch.linspace(-5, 5, 100).view(-1, 1)\n",
        "    noise = torch.randn(x.size()) * 0.5\n",
        "    y = 2 * x + 3 + noise\n",
        "\n",
        "    # End of TODO\n",
        "    return x, y\n",
        "\n",
        "\n",
        "model = SimpleNet()\n",
        "loss_fn = nn.MSELoss()\n",
        "optimizer = optim.SGD(model.parameters(), lr=0.01)\n",
        "\n",
        "\n",
        "x_train, y_train = generate_data()\n",
        "#x_train, y_train = x_train.to(device), y_train.to(device)\n",
        "num_epochs = 100"
      ]
    },
    {
      "cell_type": "code",
      "execution_count": 62,
      "metadata": {
        "colab": {
          "base_uri": "https://localhost:8080/"
        },
        "id": "ZXtzPDRbANm5",
        "outputId": "023283c1-9f6e-4b50-9a37-01eff5ffab25"
      },
      "outputs": [
        {
          "output_type": "stream",
          "name": "stdout",
          "text": [
            "Epoch 1/100, Loss: 37.67866134643555\n",
            "Epoch 2/100, Loss: 16.182716369628906\n",
            "Epoch 3/100, Loss: 3.836195468902588\n",
            "Epoch 4/100, Loss: 2.5614242553710938\n",
            "Epoch 5/100, Loss: 2.078984022140503\n",
            "Epoch 6/100, Loss: 1.8747249841690063\n",
            "Epoch 7/100, Loss: 1.783581256866455\n",
            "Epoch 8/100, Loss: 1.7180134057998657\n",
            "Epoch 9/100, Loss: 1.6597453355789185\n",
            "Epoch 10/100, Loss: 1.6054177284240723\n",
            "Epoch 11/100, Loss: 1.551411747932434\n",
            "Epoch 12/100, Loss: 1.4984267950057983\n",
            "Epoch 13/100, Loss: 1.4443647861480713\n",
            "Epoch 14/100, Loss: 1.3887603282928467\n",
            "Epoch 15/100, Loss: 1.3452790975570679\n",
            "Epoch 16/100, Loss: 1.3031429052352905\n",
            "Epoch 17/100, Loss: 1.2626041173934937\n",
            "Epoch 18/100, Loss: 1.2226794958114624\n",
            "Epoch 19/100, Loss: 1.1839027404785156\n",
            "Epoch 20/100, Loss: 1.1464781761169434\n",
            "Epoch 21/100, Loss: 1.1093751192092896\n",
            "Epoch 22/100, Loss: 1.0735704898834229\n",
            "Epoch 23/100, Loss: 1.0386180877685547\n",
            "Epoch 24/100, Loss: 1.0041805505752563\n",
            "Epoch 25/100, Loss: 0.9709811210632324\n",
            "Epoch 26/100, Loss: 0.9390498995780945\n",
            "Epoch 27/100, Loss: 0.907340407371521\n",
            "Epoch 28/100, Loss: 0.8775534629821777\n",
            "Epoch 29/100, Loss: 0.8475219011306763\n",
            "Epoch 30/100, Loss: 0.8195944428443909\n",
            "Epoch 31/100, Loss: 0.7912975549697876\n",
            "Epoch 32/100, Loss: 0.7646233439445496\n",
            "Epoch 33/100, Loss: 0.7388741970062256\n",
            "Epoch 34/100, Loss: 0.7142077684402466\n",
            "Epoch 35/100, Loss: 0.6906390190124512\n",
            "Epoch 36/100, Loss: 0.6681006550788879\n",
            "Epoch 37/100, Loss: 0.6464996337890625\n",
            "Epoch 38/100, Loss: 0.6254284381866455\n",
            "Epoch 39/100, Loss: 0.6050654053688049\n",
            "Epoch 40/100, Loss: 0.5853092670440674\n",
            "Epoch 41/100, Loss: 0.5662235021591187\n",
            "Epoch 42/100, Loss: 0.5478582978248596\n",
            "Epoch 43/100, Loss: 0.5302435755729675\n",
            "Epoch 44/100, Loss: 0.5134029388427734\n",
            "Epoch 45/100, Loss: 0.49737903475761414\n",
            "Epoch 46/100, Loss: 0.4823460280895233\n",
            "Epoch 47/100, Loss: 0.46818485856056213\n",
            "Epoch 48/100, Loss: 0.45457714796066284\n",
            "Epoch 49/100, Loss: 0.4415290057659149\n",
            "Epoch 50/100, Loss: 0.4288996756076813\n",
            "Epoch 51/100, Loss: 0.41673174500465393\n",
            "Epoch 52/100, Loss: 0.40493446588516235\n",
            "Epoch 53/100, Loss: 0.39393797516822815\n",
            "Epoch 54/100, Loss: 0.38402965664863586\n",
            "Epoch 55/100, Loss: 0.3748619556427002\n",
            "Epoch 56/100, Loss: 0.3663967251777649\n",
            "Epoch 57/100, Loss: 0.3584696650505066\n",
            "Epoch 58/100, Loss: 0.3511086404323578\n",
            "Epoch 59/100, Loss: 0.3442598581314087\n",
            "Epoch 60/100, Loss: 0.3378676176071167\n",
            "Epoch 61/100, Loss: 0.33187335729599\n",
            "Epoch 62/100, Loss: 0.32636311650276184\n",
            "Epoch 63/100, Loss: 0.3212606906890869\n",
            "Epoch 64/100, Loss: 0.3164490759372711\n",
            "Epoch 65/100, Loss: 0.3119017481803894\n",
            "Epoch 66/100, Loss: 0.30759891867637634\n",
            "Epoch 67/100, Loss: 0.30353325605392456\n",
            "Epoch 68/100, Loss: 0.2996909022331238\n",
            "Epoch 69/100, Loss: 0.2960613965988159\n",
            "Epoch 70/100, Loss: 0.29262906312942505\n",
            "Epoch 71/100, Loss: 0.2894052267074585\n",
            "Epoch 72/100, Loss: 0.28636491298675537\n",
            "Epoch 73/100, Loss: 0.2834896147251129\n",
            "Epoch 74/100, Loss: 0.2807706892490387\n",
            "Epoch 75/100, Loss: 0.27820223569869995\n",
            "Epoch 76/100, Loss: 0.275767058134079\n",
            "Epoch 77/100, Loss: 0.2734628915786743\n",
            "Epoch 78/100, Loss: 0.27128350734710693\n",
            "Epoch 79/100, Loss: 0.2692181468009949\n",
            "Epoch 80/100, Loss: 0.26726773381233215\n",
            "Epoch 81/100, Loss: 0.2654167711734772\n",
            "Epoch 82/100, Loss: 0.2636643946170807\n",
            "Epoch 83/100, Loss: 0.262008398771286\n",
            "Epoch 84/100, Loss: 0.26044952869415283\n",
            "Epoch 85/100, Loss: 0.2589690685272217\n",
            "Epoch 86/100, Loss: 0.2575620412826538\n",
            "Epoch 87/100, Loss: 0.256223201751709\n",
            "Epoch 88/100, Loss: 0.2549495995044708\n",
            "Epoch 89/100, Loss: 0.2537359595298767\n",
            "Epoch 90/100, Loss: 0.252577006816864\n",
            "Epoch 91/100, Loss: 0.2514703571796417\n",
            "Epoch 92/100, Loss: 0.25041380524635315\n",
            "Epoch 93/100, Loss: 0.24940209090709686\n",
            "Epoch 94/100, Loss: 0.24842318892478943\n",
            "Epoch 95/100, Loss: 0.24748875200748444\n",
            "Epoch 96/100, Loss: 0.24659091234207153\n",
            "Epoch 97/100, Loss: 0.24572189152240753\n",
            "Epoch 98/100, Loss: 0.24488410353660583\n",
            "Epoch 99/100, Loss: 0.24407325685024261\n",
            "Epoch 100/100, Loss: 0.24329446256160736\n",
            "Training complete!\n"
          ]
        }
      ],
      "source": [
        "\n",
        "for epoch in range(num_epochs):\n",
        "\n",
        "    # TODO: implement the loop using second-order gradients.\n",
        "    # first, compute first-order gradient. Then Convert first-order gradient\n",
        "    # to scalar before computing second-order gradient Update parameters\n",
        "    # manually. using first order and second order gradients.\n",
        "    # print loss in every step\n",
        "\n",
        "    optimizer.zero_grad()\n",
        "\n",
        "    y_pred = model(x_train)\n",
        "    loss = loss_fn(y_pred, y_train)\n",
        "\n",
        "    grad_1st = torch.autograd.grad(loss, model.parameters(), create_graph=True)\n",
        "\n",
        "    grad_1st_scalar = sum(torch.sum(g**2) for g in grad_1st)\n",
        "\n",
        "    grad_2nd = torch.autograd.grad(grad_1st_scalar, model.parameters())\n",
        "\n",
        "    with torch.no_grad():\n",
        "        for param, g1, g2 in zip(model.parameters(), grad_1st, grad_2nd):\n",
        "            param -= 0.01 * (g1 - 0.001 * g2)\n",
        "\n",
        "    print(f\"Epoch {epoch + 1}/{num_epochs}, Loss: {loss.item()}\")\n",
        "    # End of TODO\n",
        "\n",
        "\n",
        "print(\"Training complete!\")\n"
      ]
    },
    {
      "cell_type": "code",
      "execution_count": 63,
      "metadata": {
        "colab": {
          "base_uri": "https://localhost:8080/",
          "height": 564
        },
        "id": "CuBNlCk2BUk1",
        "outputId": "11154326-490e-46e9-95ba-0874ee42d394"
      },
      "outputs": [
        {
          "output_type": "display_data",
          "data": {
            "text/plain": [
              "<Figure size 800x600 with 1 Axes>"
            ],
            "image/png": "[encoded data removed]"
          },
          "metadata": {}
        }
      ],
      "source": [
        "# TODO: evaluate the model using some data and visuilize the model output\n",
        "# and compare it with the real function\n",
        "\n",
        "x_test = torch.linspace(-5, 5, 100).view(-1, 1)\n",
        "noise = torch.randn(x_test.size()) * 0.5\n",
        "y_real = 2 * x_test + 3 + noise\n",
        "\n",
        "model.eval()\n",
        "with torch.no_grad():\n",
        "    y_pred = model(x_test)\n",
        "\n",
        "x_test = x_test.cpu()\n",
        "y_real = y_real.cpu()\n",
        "y_pred = y_pred.cpu()\n",
        "\n",
        "plt.figure(figsize=(8, 6))\n",
        "plt.scatter(x_test, y_real, label=\"True points\", color=\"blue\")\n",
        "plt.plot(x_test, y_pred, label=\"Model function\", linestyle='--',color=\"red\", alpha=0.5)\n",
        "plt.xlabel(\"x\")\n",
        "plt.ylabel(\"y\")\n",
        "plt.title(\"Visualization of Generated Data\")\n",
        "plt.legend()\n",
        "plt.show()\n",
        "\n",
        "\n",
        "# End of TODO"
      ]
    },
    {
      "cell_type": "markdown",
      "metadata": {
        "id": "RVsqXB18CopB"
      },
      "source": [
        "## Interpretation of Moving in the Second-Order Direction\n",
        "\n",
        "* If the second derivative is large (high curvature) → The loss is changing rapidly → Smaller step sizes.\n",
        "* If the second derivative is small (low curvature) → The loss changes slowly → Larger step sizes.\n",
        "\n",
        "This is the core idea behind Newton's method"
      ]
    }
  ],
  "metadata": {
    "accelerator": "GPU",
    "colab": {
      "gpuType": "T4",
      "provenance": [],
      "toc_visible": true
    },
    "kernelspec": {
      "display_name": "Python 3 (ipykernel)",
      "language": "python",
      "name": "python3"
    },
    "language_info": {
      "codemirror_mode": {
        "name": "ipython",
        "version": 3
      },
      "file_extension": ".py",
      "mimetype": "text/x-python",
      "name": "python",
      "nbconvert_exporter": "python",
      "pygments_lexer": "ipython3",
      "version": "3.9.13"
    }
  },
  "nbformat": 4,
  "nbformat_minor": 0
}