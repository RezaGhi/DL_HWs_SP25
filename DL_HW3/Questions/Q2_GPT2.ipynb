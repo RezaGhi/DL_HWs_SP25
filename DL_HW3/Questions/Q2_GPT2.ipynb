{
 "cells": [
  {
   "cell_type": "markdown",
   "metadata": {},
   "source": [
    "<img src='sharif_logo.png' alt=\"SUT logo\" width=150 height=150 align=left class=\"saturate\" >\n",
    "\n",
    "<br>\n",
    "<font face=\"Times New Roman\">\n",
    "<div dir=ltr align=center>\n",
    "<font color=0F5298 size=7>\n",
    " Deep Learning <br>\n",
    "<font color=2565AE size=5>\n",
    "Computer Engineering Department - Spring 2025  <br>\n",
    "<font color=3C99D size=5>\n",
    "          Homework 3: Practical - GPT2 from Scratch! <br>\n",
    "<font color=696880 size=4>\n",
    "            Designer: Shaygan Adim\n",
    "    \n",
    "    "
   ]
  },
  {
   "cell_type": "markdown",
   "metadata": {},
   "source": [
    "**Name**:  \n",
    "  \n",
    "**Student Code**:"
   ]
  },
  {
   "cell_type": "markdown",
   "metadata": {},
   "source": [
    "# Overview\n",
    "\n",
    "In this project, you will implement a scaled-down version of OpenAI's GPT-2 architecture from scratch using PyTorch. You'll train this model on the Snappfood comments with sentiment labels. The goal is to create a generative language model that can produce synthetic Persian comments with controllable sentiment (positive or negative)."
   ]
  },
  {
   "cell_type": "markdown",
   "metadata": {},
   "source": [
    "# Learning Objectives\n",
    "\n",
    "* Understanding and implementing transformer-based language model architectures  \n",
    "* Learning how to control text generation using special tokens  \n",
    "* Visualizing and analyzing training progress  "
   ]
  },
  {
   "cell_type": "markdown",
   "metadata": {},
   "source": [
    "# Dataset\n",
    "\n",
    "You'll work with a Persian dataset containing Snappfood comments:  \n",
    "\n",
    "* The dataset texts are normalized (No need for any normalizations)\n",
    "* Each comment has a sentiment label (1 for positive, 0 for negative)\n",
    "* The dataset contains text with variations in length and style"
   ]
  },
  {
   "cell_type": "markdown",
   "metadata": {},
   "source": [
    "# Tokenizer and model\n",
    "\n",
    "You should use one of the sota open-source LLM tokenizers. I strongly recommend using Llama 3.3 tokenizer or Gemma-2 tokenizer as they're better than the others in Persian language. (There is no need to implement a tokenizer yourself.)\n",
    "\n",
    "Your model should have the exact srtructure of GPT-2:  \n",
    "  \n",
    "<img src=\"GPT-2.png\" alt=\"\" width=\"600\" height=\"800\">\n",
    "  \n",
    "For the model to be able to smoothly be trained, you should use the config below:\n",
    "\n",
    "* **Embedding Dimension**: 192 (reduced from 768 in original GPT-2)\n",
    "* **Layers**: 3 transformer blocks (reduced from 12 in original GPT-2)\n",
    "* **Attention Heads**: 3 (reduced from 12 in original GPT-2)\n",
    "* **Context Window**: 128 tokens (reduced from 1024 in original GPT-2)\n",
    "\n",
    "Moreover, unlike the original Transformer paper that used fixed sinusoidal position encodings, GPT-2 (and your implementation) should use learnable position embeddings:\n",
    "1. You should create an embedding table of size [n_positions, n_embd] where:\n",
    "\n",
    "    * n_positions is the maximum sequence length (128 in our model)\n",
    "    * n_embd is the embedding dimension (192 in our model)\n",
    "2. For each position in the sequence (0 to sequence_length-1), we look up the corresponding embedding vector.\n",
    "\n",
    "3. These position embeddings are added to the token embeddings before being passed through the transformer blocks."
   ]
  },
  {
   "cell_type": "markdown",
   "metadata": {},
   "source": [
    "# Some notes:\n",
    "\n",
    "* Be aware that you will be questioned about your solution to this assignment in-person. Thus, build a solid understanding through out solving this assignment.\n",
    "* Using ChatGPT and other LLMs are allowed but you should be able to explain every line of your code completely.\n",
    "* You need GPU for this assignment. Use can use Colab or Kaggle for free.\n",
    "* I highly recommend using the exact same structure and instructions that is provided for you in the notebook but minor changes will be tolerated.\n",
    "* Read the whole notebook once before coding. It will give you a broad vision about what you should do on the whole.\n",
    "* Instructions provided for you in TODO sections ARE NOT the only things that you should do in those parts. They're just some important bullet points that your code should have.\n",
    "* The final results (Inference section) should have the minimum quality of the samples already generated in the notebook."
   ]
  },
  {
   "cell_type": "markdown",
   "metadata": {
    "id": "BPIGMAYJWg0Q"
   },
   "source": [
    "# Importing"
   ]
  },
  {
   "cell_type": "code",
   "execution_count": null,
   "metadata": {
    "id": "mwwI_YyGWg0T"
   },
   "outputs": [],
   "source": [
    "# Data loading and manipulation\n",
    "import kagglehub\n",
    "import pandas as pd\n",
    "import numpy as np\n",
    "from sklearn.model_selection import train_test_split\n",
    "\n",
    "# Tokenization utilities\n",
    "from transformers import AutoTokenizer\n",
    "from huggingface_hub import login\n",
    "\n",
    "# PyTorch\n",
    "import torch\n",
    "import torch.nn as nn\n",
    "import torch.nn.functional as F\n",
    "from torch.utils.data import Dataset, DataLoader\n",
    "\n",
    "# Visualization tool\n",
    "import matplotlib.pyplot as plt\n",
    "\n",
    "# Runtime utilities\n",
    "import math\n",
    "import time\n",
    "from tqdm import tqdm\n",
    "\n",
    "# Typing tool\n",
    "from typing import Dict, Optional, Any"
   ]
  },
  {
   "cell_type": "markdown",
   "metadata": {
    "id": "xsdC1ePHWg0U"
   },
   "source": [
    "# Downloading and loading the data\n",
    "\n",
    "In this section we read and load the data from [here](https://www.kaggle.com/datasets/mohammad1ziyar/cleaned-snappfood-persian-sentiment-analysis).\n",
    "\n",
    "You can also see some information about the data in the next cell. In the end, we only want the label and cleaned columns."
   ]
  },
  {
   "cell_type": "code",
   "execution_count": null,
   "metadata": {
    "colab": {
     "base_uri": "https://localhost:8080/"
    },
    "id": "xkchxFa1Wg0U",
    "outputId": "bfcdc14d-20a8-4c7c-ffa2-c45ac268aa24"
   },
   "outputs": [],
   "source": [
    "# TODO: Download the dataset using kagglehub\n",
    "\n",
    "path = None\n",
    "\n",
    "print(\"Path to dataset files:\", path)\n",
    "\n",
    "raw_corpus = pd.read_csv(path + \"/cleaned_snappfood.csv\")"
   ]
  },
  {
   "cell_type": "code",
   "execution_count": 3,
   "metadata": {
    "colab": {
     "base_uri": "https://localhost:8080/"
    },
    "id": "Vg0fAjmAWg0V",
    "outputId": "c755754b-535c-45a4-9f03-706e5917ac4e"
   },
   "outputs": [
    {
     "name": "stdout",
     "output_type": "stream",
     "text": [
      "<class 'pandas.core.frame.DataFrame'>\n",
      "RangeIndex: 65973 entries, 0 to 65972\n",
      "Data columns (total 4 columns):\n",
      " #   Column           Non-Null Count  Dtype \n",
      "---  ------           --------------  ----- \n",
      " 0   comment          65973 non-null  object\n",
      " 1   label            65973 non-null  int64 \n",
      " 2   comment_length   65973 non-null  int64 \n",
      " 3   comment_cleaned  65973 non-null  object\n",
      "dtypes: int64(2), object(2)\n",
      "memory usage: 2.0+ MB\n"
     ]
    },
    {
     "data": {
      "text/html": [
       "<div>\n",
       "<style scoped>\n",
       "    .dataframe tbody tr th:only-of-type {\n",
       "        vertical-align: middle;\n",
       "    }\n",
       "\n",
       "    .dataframe tbody tr th {\n",
       "        vertical-align: top;\n",
       "    }\n",
       "\n",
       "    .dataframe thead th {\n",
       "        text-align: right;\n",
       "    }\n",
       "</style>\n",
       "<table border=\"1\" class=\"dataframe\">\n",
       "  <thead>\n",
       "    <tr style=\"text-align: right;\">\n",
       "      <th></th>\n",
       "      <th>comment</th>\n",
       "      <th>label</th>\n",
       "      <th>comment_length</th>\n",
       "      <th>comment_cleaned</th>\n",
       "    </tr>\n",
       "  </thead>\n",
       "  <tbody>\n",
       "    <tr>\n",
       "      <th>0</th>\n",
       "      <td>واقعا حیف وقت که بنویسم سرویس دهیتون شده افتضاح</td>\n",
       "      <td>0</td>\n",
       "      <td>47</td>\n",
       "      <td>واقعا حیف وقت که بنویسم سرویس دهیتون شده افتضاح</td>\n",
       "    </tr>\n",
       "    <tr>\n",
       "      <th>1</th>\n",
       "      <td>قرار بود ۱ ساعته برسه ولی نیم ساعت زودتر از مو...</td>\n",
       "      <td>1</td>\n",
       "      <td>132</td>\n",
       "      <td>قرار بود  ساعته برسه ولی نیم ساعت زودتر از موق...</td>\n",
       "    </tr>\n",
       "    <tr>\n",
       "      <th>2</th>\n",
       "      <td>قیمت این مدل اصلا با کیفیتش سازگاری نداره، فقط...</td>\n",
       "      <td>0</td>\n",
       "      <td>89</td>\n",
       "      <td>قیمت این مدل اصلا با کیفیتش سازگاری نداره فقط ...</td>\n",
       "    </tr>\n",
       "    <tr>\n",
       "      <th>3</th>\n",
       "      <td>عالی بود همه چه درست و به اندازه و کیفیت خوب، ...</td>\n",
       "      <td>1</td>\n",
       "      <td>99</td>\n",
       "      <td>عالی بود همه چه درست و به اندازه و کیفیت خوب ا...</td>\n",
       "    </tr>\n",
       "    <tr>\n",
       "      <th>4</th>\n",
       "      <td>شیرینی وانیلی فقط یک مدل بود.</td>\n",
       "      <td>1</td>\n",
       "      <td>29</td>\n",
       "      <td>شیرینی وانیلی فقط یک مدل بود</td>\n",
       "    </tr>\n",
       "  </tbody>\n",
       "</table>\n",
       "</div>"
      ],
      "text/plain": [
       "                                             comment  label  comment_length  \\\n",
       "0    واقعا حیف وقت که بنویسم سرویس دهیتون شده افتضاح      0              47   \n",
       "1  قرار بود ۱ ساعته برسه ولی نیم ساعت زودتر از مو...      1             132   \n",
       "2  قیمت این مدل اصلا با کیفیتش سازگاری نداره، فقط...      0              89   \n",
       "3  عالی بود همه چه درست و به اندازه و کیفیت خوب، ...      1              99   \n",
       "4                      شیرینی وانیلی فقط یک مدل بود.      1              29   \n",
       "\n",
       "                                     comment_cleaned  \n",
       "0    واقعا حیف وقت که بنویسم سرویس دهیتون شده افتضاح  \n",
       "1  قرار بود  ساعته برسه ولی نیم ساعت زودتر از موق...  \n",
       "2  قیمت این مدل اصلا با کیفیتش سازگاری نداره فقط ...  \n",
       "3  عالی بود همه چه درست و به اندازه و کیفیت خوب ا...  \n",
       "4                       شیرینی وانیلی فقط یک مدل بود  "
      ]
     },
     "execution_count": 3,
     "metadata": {},
     "output_type": "execute_result"
    }
   ],
   "source": [
    "raw_corpus.info()\n",
    "raw_corpus.head()"
   ]
  },
  {
   "cell_type": "code",
   "execution_count": 4,
   "metadata": {
    "id": "NVV8fkElWg0W"
   },
   "outputs": [],
   "source": [
    "raw_corpus = raw_corpus[[\"comment_cleaned\", \"label\"]]"
   ]
  },
  {
   "cell_type": "markdown",
   "metadata": {
    "id": "hs2WbUaSWg0W"
   },
   "source": [
    "# Downloading and loading the tokenizer (5 Points)\n",
    "\n",
    "In this section you need to load your tokenizer from hugging face. I recommend [this](https://huggingface.co/meta-llama/Llama-3.3-70B-Instruct) or [this](https://huggingface.co/google/gemma-2-27b-it).\n",
    "Keep in mind that you might need to login first using your hugging face access token and also sign an agreement thing in model's page to be able to access the model and it's tokenizer."
   ]
  },
  {
   "cell_type": "code",
   "execution_count": null,
   "metadata": {
    "id": "U4d2KgUJWg0W"
   },
   "outputs": [],
   "source": [
    "# TODO: Set up authentication (if needed) and initialize a tokenizer\n",
    "#  Use the login() function to authenticate with your Hugging Face token (if needed)\n",
    "#  Initialize a tokenizer using the AutoTokenizer class\n",
    "\n",
    "tokenizer = None"
   ]
  },
  {
   "cell_type": "markdown",
   "metadata": {},
   "source": [
    "In the cell below, add two special tokens to the vocabulary of the tokenizer indicating positivity or negativity of a comment. We will add these tokens manually as the first token of each comment so model will understand the difference between positive and negative comments."
   ]
  },
  {
   "cell_type": "code",
   "execution_count": 6,
   "metadata": {
    "colab": {
     "base_uri": "https://localhost:8080/"
    },
    "id": "xEGzba_kWg0X",
    "outputId": "ac50a9ef-aca7-4586-e0fd-597ed0f7ed12"
   },
   "outputs": [
    {
     "data": {
      "text/plain": [
       "2"
      ]
     },
     "execution_count": 6,
     "metadata": {},
     "output_type": "execute_result"
    }
   ],
   "source": [
    "# TODO: Add custom special tokens to the tokenizer\n",
    "\n",
    "# 1. Create a dictionary named 'special_tokens' with a key 'additional_special_tokens' that contains a list of two special tokens for positivity and negativity\n",
    "# 2. Add these tokens to the vocabulary\n",
    "\n",
    "# These special tokens will be used to tell the model what sentiment we're expecting during training and inference.\n",
    "\n",
    "special_tokens = None\n",
    "tokenizer.add_special_tokens(special_tokens)"
   ]
  },
  {
   "cell_type": "markdown",
   "metadata": {
    "id": "2Pz_f5L-Wg0X"
   },
   "source": [
    "## Dataset and Dataloader (10 Points)"
   ]
  },
  {
   "cell_type": "markdown",
   "metadata": {},
   "source": [
    "Create a custom Dataset class for the data"
   ]
  },
  {
   "cell_type": "code",
   "execution_count": 7,
   "metadata": {
    "id": "RvXgNmXNWg0X"
   },
   "outputs": [],
   "source": [
    "class CommentDataset(Dataset):\n",
    "    def __init__(self, dataframe, tokenizer, max_length=128):\n",
    "        self.tokenizer = tokenizer\n",
    "        self.comments = dataframe['comment_cleaned'].tolist()\n",
    "        self.labels = dataframe['label'].tolist()\n",
    "        self.max_length = max_length\n",
    "\n",
    "    def __len__(self) -> int:\n",
    "        return len(self.comments)\n",
    "\n",
    "    def __getitem__(self, idx: int) -> dict:\n",
    "        # TODO: Process a single item from the dataset\n",
    "        # This method should:\n",
    "        # 1. Get the appropriate label and comment at the given index\n",
    "        # 2. Create a prefix based on the sentiment\n",
    "        # 3. Tokenize the text\n",
    "\n",
    "        input_ids = None\n",
    "        attention_mask = None\n",
    "        labels = None\n",
    "        \n",
    "        return {\n",
    "            'input_ids': input_ids,\n",
    "            'attention_mask': attention_mask,\n",
    "            'labels': labels\n",
    "        }"
   ]
  },
  {
   "cell_type": "markdown",
   "metadata": {},
   "source": [
    "Create train and validation datasets and dataloaders and also split the data"
   ]
  },
  {
   "cell_type": "code",
   "execution_count": 8,
   "metadata": {
    "id": "oEKDOw_sWg0X"
   },
   "outputs": [],
   "source": [
    "# TODO: Prepare the training and validation datasets and dataloaders\n",
    "#\n",
    "# 1. Split the raw_corpus dataframe into training and validation sets with a suitable ratio\n",
    "# 2. Create dataset instances using the CommentDataset class:\n",
    "# 3. Create DataLoader instances\n",
    "\n",
    "train_df, val_df = None, None\n",
    "\n",
    "train_dataset = None\n",
    "val_dataset = None\n",
    "\n",
    "train_loader = None\n",
    "val_loader = None"
   ]
  },
  {
   "cell_type": "markdown",
   "metadata": {
    "id": "fhn8d4ceWg0Y"
   },
   "source": [
    "## Model implementation (35 Points)"
   ]
  },
  {
   "cell_type": "markdown",
   "metadata": {},
   "source": [
    "In this section you should implement the model architecture completely from scratch. No pre-defined torch or other libraries tools are allowed. (Even for the attention mechanism)"
   ]
  },
  {
   "cell_type": "code",
   "execution_count": 9,
   "metadata": {
    "id": "145IO1TdWg0Y"
   },
   "outputs": [],
   "source": [
    "class GPT2Config:\n",
    "    def __init__(\n",
    "        self,\n",
    "        vocab_size,\n",
    "        n_positions,  \n",
    "        n_embd,\n",
    "        n_layer,\n",
    "        n_head,\n",
    "        n_inner=None,\n",
    "        activation_function=\"gelu\",\n",
    "        resid_pdrop=0.1,\n",
    "        embd_pdrop=0.1,\n",
    "        attn_pdrop=0.1,\n",
    "        layer_norm_epsilon=1e-5,\n",
    "        initializer_range=0.02,\n",
    "        bos_token_id=None,\n",
    "        eos_token_id=None,\n",
    "    ):\n",
    "        self.vocab_size = vocab_size\n",
    "        self.n_positions = n_positions\n",
    "        self.n_embd = n_embd\n",
    "        self.n_layer = n_layer\n",
    "        self.n_head = n_head\n",
    "        self.n_inner = 4 * n_embd if n_inner is None else n_inner\n",
    "        self.activation_function = activation_function\n",
    "        self.resid_pdrop = resid_pdrop\n",
    "        self.embd_pdrop = embd_pdrop\n",
    "        self.attn_pdrop = attn_pdrop\n",
    "        self.layer_norm_epsilon = layer_norm_epsilon\n",
    "        self.initializer_range = initializer_range\n",
    "        self.bos_token_id = bos_token_id\n",
    "        self.eos_token_id = eos_token_id"
   ]
  },
  {
   "cell_type": "code",
   "execution_count": 10,
   "metadata": {
    "id": "3ipPrEapWg0Y"
   },
   "outputs": [],
   "source": [
    "class CausalSelfAttention(nn.Module):\n",
    "    def __init__(self, config):\n",
    "        super().__init__()\n",
    "        self.n_head = config.n_head\n",
    "        self.n_embd = config.n_embd\n",
    "        self.dropout = config.attn_pdrop\n",
    "\n",
    "        # TODO: Initialize the query, key, value projection layer\n",
    "        # Create a single linear layer (c_attn) that projects the input embeddings to query, key, and value vectors\n",
    "        # The output dimension should be 3 * config.n_embd\n",
    "        \n",
    "        # TODO: Initialize the output projection layer\n",
    "        # Create a linear layer (c_proj) that projects the attention output back to the embedding dimension\n",
    "        \n",
    "        self.attn_dropout = nn.Dropout(config.attn_pdrop)\n",
    "        self.resid_dropout = nn.Dropout(config.resid_pdrop)\n",
    "\n",
    "        # TODO: Create the causal attention mask\n",
    "        # Register a buffer named \"mask\" with shape (config.n_positions, config.n_positions)\n",
    "\n",
    "    def forward(self, x: torch.Tensor) -> torch.Tensor:\n",
    "        B, T, C = x.size()  # batch size, sequence length, embedding dimensionality\n",
    "\n",
    "        # TODO: Implement the multi-head attention mechanism\n",
    "        # 1. Project input x to query, key, and value using self.c_attn\n",
    "        # 2. Compute attention scores:\n",
    "        # 3. Apply attention weights to values\n",
    "        # 4. Apply the output projection and residual dropout\n",
    "        \n",
    "        y = None\n",
    "        return y"
   ]
  },
  {
   "cell_type": "code",
   "execution_count": 11,
   "metadata": {
    "id": "M7YfYPW2Wg0Y"
   },
   "outputs": [],
   "source": [
    "class MLP(nn.Module):\n",
    "    def __init__(self, config):\n",
    "        super().__init__()\n",
    "        self.c_fc = nn.Linear(config.n_embd, config.n_inner)\n",
    "        self.c_proj = nn.Linear(config.n_inner, config.n_embd)\n",
    "        self.dropout = nn.Dropout(config.resid_pdrop)\n",
    "        \n",
    "    def forward(self, x: torch.Tensor) -> torch.Tensor:\n",
    "        # TODO: Implement the feed-forward network forward pass\n",
    "        \n",
    "        return x"
   ]
  },
  {
   "cell_type": "code",
   "execution_count": 12,
   "metadata": {
    "id": "VPEgMD4zWg0Z"
   },
   "outputs": [],
   "source": [
    "class Block(nn.Module):\n",
    "    def __init__(self, config):\n",
    "        super().__init__()\n",
    "        # TODO: Initialize the components of a transformer block\n",
    "        \n",
    "    def forward(self, x: torch.Tensor) -> torch.Tensor:\n",
    "        # TODO: Implement the transformer block forward pass with residual connections\n",
    "        \n",
    "        return x"
   ]
  },
  {
   "cell_type": "code",
   "execution_count": 13,
   "metadata": {
    "id": "uwEBuKSwWg0Z"
   },
   "outputs": [],
   "source": [
    "class GPT2(nn.Module):\n",
    "    def __init__(self, config):\n",
    "        super().__init__()\n",
    "        self.config = config\n",
    "        self.transformer = nn.ModuleDict({\n",
    "            'wte': nn.Embedding(config.vocab_size, config.n_embd),\n",
    "            'wpe': nn.Embedding(config.n_positions, config.n_embd),\n",
    "            'drop': nn.Dropout(config.embd_pdrop),\n",
    "            'h': nn.ModuleList([Block(config) for _ in range(config.n_layer)]),\n",
    "            'ln_f': nn.LayerNorm(config.n_embd, eps=config.layer_norm_epsilon)\n",
    "        })\n",
    "\n",
    "        self.lm_head = nn.Linear(config.n_embd, config.vocab_size, bias=False)\n",
    "        self.transformer['wte'].weight = self.lm_head.weight \n",
    "\n",
    "        self.apply(self._init_weights)\n",
    "\n",
    "    def _init_weights(self, module):\n",
    "        # TODO: Implement the weight initialization function\n",
    "        # 1. For Linear and Embedding layers:\n",
    "        #    - Initialize weights from a normal distribution with mean=0.0 and \n",
    "        #      std=self.config.initializer_range\n",
    "        #    - For Linear layers with bias, initialize the bias to zero\n",
    "        # 2. For LayerNorm layers:\n",
    "        #    - Initialize bias to zero\n",
    "        #    - Initialize weight to ones\n",
    "        pass\n",
    "\n",
    "    def forward(self, input_ids: torch.Tensor, attention_mask: Optional[torch.Tensor] = None, \n",
    "                labels: Optional[torch.Tensor] = None) -> Dict[str, torch.Tensor]:\n",
    "        # TODO: Implement the forward pass\n",
    "        #\n",
    "        # 1. Create position indices\n",
    "        # 2. Compute embeddings\n",
    "        # 3. Process the input through transformer blocks\n",
    "        # 4. Apply final layer normalization\n",
    "        # 5. Compute logits using the language model head\n",
    "        # 6. Return a dictionary with 'logits' and 'loss' (if calculated)\n",
    "        logits = None\n",
    "        loss = None        \n",
    "        return {'logits': logits, 'loss': loss}\n",
    "\n",
    "    def generate(self, input_ids: torch.Tensor, max_length: int, \n",
    "                temperature: float = 1.0, top_k: int = 0, top_p: float = 0.9) -> torch.Tensor:\n",
    "        # TODO: Implement text generation with various decoding strategies\n",
    "        # This method should generate text auto-regressively using the trained model\n",
    "        # with temperature, top-k, and nucleus (top-p) sampling techniques.\n",
    "        #\n",
    "        # 1. Set the model to evaluation mode\n",
    "        # 2. Loop to generate 'max_length' new tokens:\n",
    "        #    a. Run the forward pass to get logits for the current sequence\n",
    "        #    b. Extract logits for the last token and apply temperature scaling        #\n",
    "        #    c. Apply top-k sampling if top_k > 0:\n",
    "        #    d. Apply nucleus (top-p) sampling if top_p < 1.0:\n",
    "        # 3. Return the complete generated sequence\n",
    "        \n",
    "        return input_ids"
   ]
  },
  {
   "cell_type": "markdown",
   "metadata": {
    "id": "O3SlvokpWg0Z"
   },
   "source": [
    "## Train and evaluation (25 Points)"
   ]
  },
  {
   "cell_type": "markdown",
   "metadata": {},
   "source": [
    "Now you should implement the train and evaluation functions."
   ]
  },
  {
   "cell_type": "code",
   "execution_count": 14,
   "metadata": {
    "id": "ICMNy90uWg0Z"
   },
   "outputs": [],
   "source": [
    "def train_epoch(model: nn.Module, data_loader: DataLoader, optimizer: torch.optim.Optimizer, \n",
    "               scheduler, device: torch.device, log_interval: int) -> tuple:\n",
    "    # TODO: Implement the training loop for a single epoch\n",
    "\n",
    "    total_loss = None\n",
    "    step_nums = None\n",
    "    step_losses = None\n",
    "    \n",
    "    return total_loss / len(data_loader), step_nums, step_losses\n",
    "\n",
    "def evaluate(model: nn.Module, data_loader: DataLoader, \n",
    "            device: torch.device, log_interval: int) -> tuple:\n",
    "    # TODO: Implement the evaluation loop\n",
    "    total_loss = None\n",
    "    step_nums = None\n",
    "    step_losses = None\n",
    "    return total_loss / len(data_loader), step_nums, step_losses"
   ]
  },
  {
   "cell_type": "code",
   "execution_count": null,
   "metadata": {
    "colab": {
     "base_uri": "https://localhost:8080/"
    },
    "id": "rhnkOmOpWg0Z",
    "outputId": "17e5568c-41cd-4976-9401-170f4cca83bf"
   },
   "outputs": [],
   "source": [
    "config = GPT2Config(\n",
    "    vocab_size=len(tokenizer),\n",
    "    n_positions=128,\n",
    "    n_embd=192,\n",
    "    n_layer=3,\n",
    "    n_head=3,\n",
    "    bos_token_id=tokenizer.bos_token_id,\n",
    "    eos_token_id=tokenizer.eos_token_id\n",
    ")\n",
    "\n",
    "device = torch.device('cuda' if torch.cuda.is_available() else 'cpu')\n",
    "\n",
    "model = GPT2(config)\n",
    "model.to(device)"
   ]
  },
  {
   "cell_type": "markdown",
   "metadata": {},
   "source": [
    "Now train the model for 3 to 5 epochs. It's recommended to use a suitable learning rate scheduler (For example, cosine). Also save training and validation loss periodically."
   ]
  },
  {
   "cell_type": "code",
   "execution_count": 16,
   "metadata": {
    "colab": {
     "base_uri": "https://localhost:8080/"
    },
    "id": "ATyPSWYWWg0Z",
    "outputId": "3b5b5468-c28d-43b0-c343-0488a9e8c954"
   },
   "outputs": [
    {
     "name": "stdout",
     "output_type": "stream",
     "text": [
      "Epoch 1\n"
     ]
    },
    {
     "name": "stderr",
     "output_type": "stream",
     "text": [
      "Training: 100%|██████████| 7422/7422 [05:01<00:00, 24.63it/s, loss=4.52]\n",
      "Evaluating: 100%|██████████| 825/825 [00:10<00:00, 76.82it/s]\n"
     ]
    },
    {
     "name": "stdout",
     "output_type": "stream",
     "text": [
      "Train Loss: 4.9686, Val Loss: 3.9754\n",
      "Saved best model!\n",
      "Epoch 2\n"
     ]
    },
    {
     "name": "stderr",
     "output_type": "stream",
     "text": [
      "Training: 100%|██████████| 7422/7422 [05:00<00:00, 24.66it/s, loss=3.86]\n",
      "Evaluating: 100%|██████████| 825/825 [00:10<00:00, 75.28it/s]\n"
     ]
    },
    {
     "name": "stdout",
     "output_type": "stream",
     "text": [
      "Train Loss: 3.8201, Val Loss: 3.6054\n",
      "Saved best model!\n",
      "Epoch 3\n"
     ]
    },
    {
     "name": "stderr",
     "output_type": "stream",
     "text": [
      "Training: 100%|██████████| 7422/7422 [05:00<00:00, 24.68it/s, loss=3.71]\n",
      "Evaluating: 100%|██████████| 825/825 [00:11<00:00, 74.53it/s]\n"
     ]
    },
    {
     "name": "stdout",
     "output_type": "stream",
     "text": [
      "Train Loss: 3.5890, Val Loss: 3.4707\n",
      "Saved best model!\n",
      "Epoch 4\n"
     ]
    },
    {
     "name": "stderr",
     "output_type": "stream",
     "text": [
      "Training: 100%|██████████| 7422/7422 [04:59<00:00, 24.74it/s, loss=3.68]\n",
      "Evaluating: 100%|██████████| 825/825 [00:10<00:00, 75.59it/s]\n"
     ]
    },
    {
     "name": "stdout",
     "output_type": "stream",
     "text": [
      "Train Loss: 3.4930, Val Loss: 3.4163\n",
      "Saved best model!\n",
      "Epoch 5\n"
     ]
    },
    {
     "name": "stderr",
     "output_type": "stream",
     "text": [
      "Training: 100%|██████████| 7422/7422 [05:00<00:00, 24.68it/s, loss=3.22]\n",
      "Evaluating: 100%|██████████| 825/825 [00:10<00:00, 76.45it/s]\n"
     ]
    },
    {
     "name": "stdout",
     "output_type": "stream",
     "text": [
      "Train Loss: 3.4565, Val Loss: 3.4078\n",
      "Saved best model!\n"
     ]
    }
   ],
   "source": [
    "# TODO: Set up and run the training loop\n",
    "\n",
    "# Implement the main training loop:\n",
    "#    For each epoch:\n",
    "#       - Call train_epoch to train for one epoch and get losses and step information\n",
    "#       - Store the average epoch loss in epoch_train_losses\n",
    "#       - Update step tracking, adjusting step numbers for the current epoch\n",
    "#       - Call evaluate to validate the model and get validation losses\n",
    "#       - Store the average validation loss in epoch_val_losses\n",
    "#       - Update validation step tracking\n",
    "#       - Print the training and validation losses for the epoch\n",
    "\n",
    "\n",
    "epochs = 5\n",
    "\n",
    "optimizer = None\n",
    "total_steps = len(train_loader) * epochs\n",
    "scheduler = None\n",
    "\n",
    "epoch_train_losses = []\n",
    "epoch_val_losses = []\n",
    "all_train_step_losses = []\n",
    "all_train_step_nums = []\n",
    "all_val_step_losses = []\n",
    "all_val_step_nums = []\n",
    "\n",
    "best_val_loss = float('inf')\n",
    "for epoch in range(epochs):\n",
    "    pass"
   ]
  },
  {
   "cell_type": "markdown",
   "metadata": {},
   "source": [
    "Plot the training and validation loss in each epoch and also in each steps you saved before."
   ]
  },
  {
   "cell_type": "code",
   "execution_count": 19,
   "metadata": {
    "colab": {
     "base_uri": "https://localhost:8080/",
     "height": 824
    },
    "id": "QoHYyx9aYXS_",
    "outputId": "5370cf81-bc91-4572-873f-de902954229f"
   },
   "outputs": [
    {
     "data": {
      "image/png": "[encoded data removed]",
      "text/plain": [
       "<Figure size 1200x800 with 3 Axes>"
      ]
     },
     "metadata": {},
     "output_type": "display_data"
    }
   ],
   "source": [
    "# TODO: Visualize the training and validation results\n",
    "\n",
    "# Create three subplots:\n",
    "#    a. Plot epoch-level training and validation losses\n",
    "#    b. Plot step-level training losses\n",
    "#    c. Plot step-level validation losses"
   ]
  },
  {
   "cell_type": "markdown",
   "metadata": {},
   "source": [
    "# Inference (15 Points)"
   ]
  },
  {
   "cell_type": "markdown",
   "metadata": {},
   "source": [
    "Complete the function below to generate comments (positive or negative) "
   ]
  },
  {
   "cell_type": "code",
   "execution_count": 21,
   "metadata": {},
   "outputs": [],
   "source": [
    "def generate_comment(model: nn.Module, tokenizer: Any, sentiment: str, max_length: int = 50) -> str:\n",
    "    # TODO: Implement text generation with sentiment control\n",
    "    # 1. Create the appropriate prefix based on the sentiment parameter\n",
    "    # 2. Generate text using the model's generate method\n",
    "\n",
    "    generated_text = None\n",
    "    return generated_text"
   ]
  },
  {
   "cell_type": "markdown",
   "metadata": {},
   "source": [
    "Generate 10 positive and 10 negative comments and evaluate your results"
   ]
  },
  {
   "cell_type": "code",
   "execution_count": 25,
   "metadata": {
    "colab": {
     "base_uri": "https://localhost:8080/"
    },
    "id": "C2e5sQvyWg0a",
    "outputId": "b419c61a-79ec-4260-cce4-9e0caceee4c4"
   },
   "outputs": [
    {
     "name": "stdout",
     "output_type": "stream",
     "text": [
      "Positive Comment:\n",
      " طعم غذا خوب بود و به موقع رسید دستم رسید و پیک هم را از اس غذا راضی بودم و اسنپ فود و سفارش هم به هم رسید و هم بابت رستوران سفارش و با تشکر از و غذا و با کیفیت و\n",
      "\n",
      "Negative Comment:\n",
      " بسیار سرد به دست من از اس بیپ فود راضی بودم غذا رو بنده سفارش دادم و سفارش به دستمون رسید و بی فود و غذا راضی بودم و پیت و با توجه به نظر من رسید از این رستوران\n",
      "\n",
      "Positive Comment:\n",
      " خوش مثل همیشه ممنون از رستوران سفارش به دستم به موقع و اسنپ فود و از اسنپ فود غذا بسیار مودب و با کیفیت و و خوشم بود و به دست من و به موقع به دست م م\n",
      "\n",
      "Negative Comment:\n",
      " پیتزا و بسیار بدم من مشتریان کنید کیفیت این رستوران غذا رو هم کیفیت و کیفیت غذا خوب بود و مزه و حجم غذا هم واقعا پایین بود و کیفیت غذا رو غذا رو به این رستوران سفارش نمیشه از این رست\n",
      "\n",
      "Positive Comment:\n",
      " نانهای به دست رسید پیتزا هم پیتزا خوب بود در کل خوب بود و و خمیر پیتزا هم به نسبت به قیمتش نسبت به کیفیت و کیفیت غذا خوب بود از سفارش غذا به قیمت خیلی خوب بود با کیفیت غذا\n",
      "\n",
      "Negative Comment:\n",
      " غذا سرد رسید و پیتزا سرد بود و پیتزا گرم بود به قیمت نسبت به قبل خیلی کم شده بود و قیمت غذا نسبت به قیمت خیلی نسبت به غذا هم به قیمت غذا غذا هم کیفیت و کیفیت قیمت غذا خوب بود و غذا خوب\n",
      "\n",
      "Positive Comment:\n",
      " عالی بود هم هم به دست دستمون رسید سپاسگزارم از همه هم هم اس با سپاسگزارم از اس هم اسنپ فود و رستوران رستوران عالی سپاس و اسنپ فود و سپ ف\n",
      "\n",
      "Negative Comment:\n",
      " غذاها نپخته بود و بوی غذا میداد و واقعا افتضاح بود اصلا غذا اصلا افتضاح بود و واقعا افتضاح بود که اصلا راضی نبودیم به دست من افتضاحنده بود نمیتم اصلا از این\n",
      "\n",
      "Positive Comment:\n",
      " طعم و بسته بندی هم قیمت هم خیلی را تحویل ممنون غذا هم خیلی راضی بودم مر و اسنپ فود که به نظر با تشکر از رستوران و بابت با تشکر از اس به پیک اس بابت و پیک اس اس\n",
      "\n",
      "Negative Comment:\n",
      " پیتزا نبود پیتزاها بود و پیتزا پیتزا کم و پیتزا هم سرد بود و پیتزاهای نداشت غذا به هم سرد سرد شده بود و پیتزا بسیار سرد بود و و با کیفیت بود و\n",
      "\n",
      "Positive Comment:\n",
      " مثل همیشه عالی و ممنون از اساتپ فود و اسنپ فود و فود ممنون از اسها اس و ممنون از رستوران سفارش به با تشکر از اسنپ فود و و به موقع و اس با\n",
      "\n",
      "Negative Comment:\n",
      " خیلی موندم و بی این رستوران من سفارش نمیدادم تاخوردن متاسفم که از پیتزا سرد به دستم رسید و این رستوران پیتزید تا سفارش میدیم از یک ساعت و که تا برسه\n",
      "\n",
      "Positive Comment:\n",
      " عالی مثل ممنون از اس اسنپ فود بسیار با به اسنپ فود و بابت غذود اسنپ فود و اس اکسود و فود اسنپ فود و اس فود و بابت به اس\n",
      "\n",
      "Negative Comment:\n",
      " من کیک و فرستادن و هرگز از این به رستوران سفارش به من از سفارش دادم و این رستوران بود از این رستوران غذا را به مشتری این غذا راضی بودم ولی من رسید سفارش میدم از سفارش من مشتری ب\n",
      "\n",
      "Positive Comment:\n",
      " کیفیت غذا خوب بود و به موقع رسید دستمون رسید و خیلی خوب بود ولی به موقع و خسته نباشیدیتزا هم بسیار عالی بود و داغ و با کیفیت بود با کیفیت و سریع رسید هم غذا گرم به دستتون رسید و با\n",
      "\n",
      "Negative Comment:\n",
      " سفارش دادم  دقیقه تاخیر رسید برنجش خیلی کم و غذا بود درکل راضی نبودم که از این رستوران غذا که غذا راضیم این غذاها کیفیت غذا هم خیلی خوب بود و راضی نبودم\n",
      "\n",
      "Positive Comment:\n",
      " نانها و به دست ما رسید که غذا بسیار خوب بود ولی غذا کاملا سرد بود با این رستوران سفارش نمیر به کیفیت عالی بود و با تاخیر رسید و به غذا سفارش و با کیفیت و براموش از زمان تحویل هم\n",
      "\n",
      "Negative Comment:\n",
      " سلام کیک خمیر و بدمزه و بیات بود تا به دستم رسید ولی غذا سرد بود و سرد سرد به دستمون رسید که اصلا سرد بود متاسفانه به رستوران از غذای تحویل غذا رو ارسال شد غذا که تا\n",
      "\n",
      "Positive Comment:\n",
      " عالی مر سپگزارم به اسابت سپاسگزارم در کیسهای اسنپ فود با اسنپ فود و فود و باکیفیت به دست ممنون از مدیریت اسنپ فود بابت رست\n",
      "\n",
      "Negative Comment:\n",
      " با تاخیر رسید غذا سرد رسید و پیتزا رو نپخته و فست فود و غیر قابل خوردن نبود تا پیتزا سرد شده بود و اصلا در کل سرد بود اصلا راضی نبودم نبود در در رستوران غذا\n",
      "\n"
     ]
    }
   ],
   "source": [
    "# TODO: Demonstrate the model's sentiment-controlled text generation\n",
    "\n",
    "model.eval()\n",
    "\n",
    "for _ in range(10):\n",
    "#    a. Generate a positive comment using the generate_comment function:\n",
    "#    b. Generate a negative comment using the generate_comment function:\n",
    "    pass"
   ]
  },
  {
   "cell_type": "markdown",
   "metadata": {},
   "source": [
    "## Inference Time Hyperparameters (10 Points)"
   ]
  },
  {
   "cell_type": "markdown",
   "metadata": {},
   "source": [
    "Play with these parameters for the best results:\n",
    "  \n",
    "temperature, top_k, top_p\n",
    "\n",
    "Briefly report what you saw and try to explain why is it happening. What is the effect of each one?\n",
    "\n",
    "**Your Report**:  "
   ]
  }
 ],
 "metadata": {
  "accelerator": "GPU",
  "colab": {
   "gpuType": "T4",
   "provenance": []
  },
  "kernelspec": {
   "display_name": "Python 3 (ipykernel)",
   "language": "python",
   "name": "python3"
  },
  "language_info": {
   "codemirror_mode": {
    "name": "ipython",
    "version": 3
   },
   "file_extension": ".py",
   "mimetype": "text/x-python",
   "name": "python",
   "nbconvert_exporter": "python",
   "pygments_lexer": "ipython3",
   "version": "3.10.12"
  }
 },
 "nbformat": 4,
 "nbformat_minor": 4
}
